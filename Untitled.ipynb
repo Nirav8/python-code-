{
 "cells": [
  {
   "cell_type": "code",
   "execution_count": 1,
   "metadata": {},
   "outputs": [],
   "source": [
    "import random"
   ]
  },
  {
   "cell_type": "markdown",
   "metadata": {},
   "source": [
    "# c_data\n",
    "id : name , password , cash"
   ]
  },
  {
   "cell_type": "code",
   "execution_count": 2,
   "metadata": {},
   "outputs": [],
   "source": [
    "c_data = {1:['Nirav' , 2389 , 2000] , 2:['krish' , 1290 , 30000]}"
   ]
  },
  {
   "cell_type": "markdown",
   "metadata": {},
   "source": [
    "# new account"
   ]
  },
  {
   "cell_type": "code",
   "execution_count": 3,
   "metadata": {},
   "outputs": [],
   "source": [
    "class new_account:\n",
    "    def __init__(self , name):\n",
    "        self.name = name\n",
    "        Id = len(c_data) + 1\n",
    "        password = random.randint(1000 , 9999)\n",
    "        c_data.update({Id:[name , password , 1000]})\n",
    "        print 'please not your id : ' , Id  , 'and password :' ,password\n",
    "        "
   ]
  },
  {
   "cell_type": "code",
   "execution_count": 4,
   "metadata": {},
   "outputs": [
    {
     "name": "stdout",
     "output_type": "stream",
     "text": [
      "name\n"
     ]
    },
    {
     "ename": "SyntaxError",
     "evalue": "unexpected EOF while parsing (<string>, line 0)",
     "output_type": "error",
     "traceback": [
      "\u001b[1;36m  File \u001b[1;32m\"<string>\"\u001b[1;36m, line \u001b[1;32munknown\u001b[0m\n\u001b[1;33m    \u001b[0m\n\u001b[1;37m    ^\u001b[0m\n\u001b[1;31mSyntaxError\u001b[0m\u001b[1;31m:\u001b[0m unexpected EOF while parsing\n"
     ]
    }
   ],
   "source": [
    "new_account(input('name'))"
   ]
  },
  {
   "cell_type": "markdown",
   "metadata": {},
   "source": [
    "# operation"
   ]
  },
  {
   "cell_type": "code",
   "execution_count": 5,
   "metadata": {},
   "outputs": [],
   "source": [
    "class auth:\n",
    "    def __init__(self , Id , password):\n",
    "        self.Id = Id\n",
    "        self.password = password\n",
    "        if (Id in c_data and password == c_data[Id][1] ):\n",
    "            print 'welcome to bank of XYZ'\n",
    "            print '*****************'\n",
    "            print('1.withdrow  2.transfer  3.logout')\n",
    "            a=input('choose any option :')\n",
    "            if a == 1:\n",
    "                am = input('enter your ammount :')\n",
    "                if am < c_data[Id][2]:\n",
    "                    new_am = c_data[Id][2] - am\n",
    "                    if new_am < 1000:\n",
    "                        print 'Opps !! your accout ballane become lessthen 1000/-'\n",
    "                        c_data[Id][2]+am\n",
    "                    else:\n",
    "                        c_data[Id][2] = new_am\n",
    "                        print 'your balance is ' , c_data[Id][2] ,'/-'\n",
    "                else:\n",
    "                    print 'Opps!! your account not have enough balance'\n",
    "                    \n",
    "            if a == 2:\n",
    "                SId = input('enter a another Id :')\n",
    "                if SId in c_data:\n",
    "                    Tam = input('transfer amount :')\n",
    "                    c_data[Id][2] = c_data[Id][2] - Tam\n",
    "                    if c_data[Id][2] < 1000:\n",
    "                        print 'opss!! your account balance become lessthen 1000/-'\n",
    "                        c_data[Id][2] = c_data[Id][2] + Tam\n",
    "                    else:\n",
    "                        c_data[SId][2] = c_data[SId][2] + Tam\n",
    "                        print 'your account balance is' , c_data[Id][2]\n",
    "                else:\n",
    "                    print 'enter a valid Id'\n",
    "            if a == 3:\n",
    "                auth(input('Id') , input('password'))\n",
    "        else:\n",
    "            print 'please try again username or password is incorrect'\n",
    "    "
   ]
  },
  {
   "cell_type": "code",
   "execution_count": 8,
   "metadata": {},
   "outputs": [
    {
     "name": "stdout",
     "output_type": "stream",
     "text": [
      "Id1\n",
      "password2389\n",
      "welcome to bank of XYZ\n",
      "*****************\n",
      "1.withdrow  2.transfer  3.logout\n",
      "choose any option :2\n",
      "enter a another Id :1\n",
      "transfer amount :1200\n",
      "opss!! your account balance become lessthen 1000/-\n"
     ]
    },
    {
     "data": {
      "text/plain": [
       "<__main__.auth instance at 0x0000000004A87FC8>"
      ]
     },
     "execution_count": 8,
     "metadata": {},
     "output_type": "execute_result"
    }
   ],
   "source": [
    "auth(input('Id'), input('password'))"
   ]
  },
  {
   "cell_type": "code",
   "execution_count": null,
   "metadata": {},
   "outputs": [],
   "source": []
  },
  {
   "cell_type": "code",
   "execution_count": 7,
   "metadata": {},
   "outputs": [
    {
     "data": {
      "text/plain": [
       "{1: ['Nirav', 2389, 2000], 2: ['krish', 1290, 30000]}"
      ]
     },
     "execution_count": 7,
     "metadata": {},
     "output_type": "execute_result"
    }
   ],
   "source": [
    "c_data"
   ]
  },
  {
   "cell_type": "code",
   "execution_count": null,
   "metadata": {},
   "outputs": [],
   "source": []
  },
  {
   "cell_type": "code",
   "execution_count": null,
   "metadata": {},
   "outputs": [],
   "source": []
  },
  {
   "cell_type": "code",
   "execution_count": null,
   "metadata": {},
   "outputs": [],
   "source": []
  }
 ],
 "metadata": {
  "kernelspec": {
   "display_name": "Python 2",
   "language": "python",
   "name": "python2"
  },
  "language_info": {
   "codemirror_mode": {
    "name": "ipython",
    "version": 2
   },
   "file_extension": ".py",
   "mimetype": "text/x-python",
   "name": "python",
   "nbconvert_exporter": "python",
   "pygments_lexer": "ipython2",
   "version": "2.7.17"
  }
 },
 "nbformat": 4,
 "nbformat_minor": 2
}
