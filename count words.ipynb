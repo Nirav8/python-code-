{
 "cells": [
  {
   "cell_type": "code",
   "execution_count": 1,
   "metadata": {},
   "outputs": [],
   "source": [
    "a = 'how many tools are availbale tools availbale'\n",
    "z=a.split()\n",
    "x = []\n",
    "y = dict()\n",
    "for i in z:\n",
    "    e=1\n",
    "    if i in x:\n",
    "        e=e+1\n",
    "    else:\n",
    "        e=1\n",
    "        x.append(i)\n",
    "    y.update({i:e})"
   ]
  },
  {
   "cell_type": "code",
   "execution_count": 2,
   "metadata": {},
   "outputs": [
    {
     "data": {
      "text/plain": [
       "(['how', 'many', 'tools', 'are', 'availbale'],\n",
       " {'are': 1, 'availbale': 2, 'how': 1, 'many': 1, 'tools': 2})"
      ]
     },
     "execution_count": 2,
     "metadata": {},
     "output_type": "execute_result"
    }
   ],
   "source": [
    "x , y"
   ]
  }
 ],
 "metadata": {
  "kernelspec": {
   "display_name": "Python 2",
   "language": "python",
   "name": "python2"
  },
  "language_info": {
   "codemirror_mode": {
    "name": "ipython",
    "version": 2
   },
   "file_extension": ".py",
   "mimetype": "text/x-python",
   "name": "python",
   "nbconvert_exporter": "python",
   "pygments_lexer": "ipython2",
   "version": "2.7.17"
  }
 },
 "nbformat": 4,
 "nbformat_minor": 2
}
