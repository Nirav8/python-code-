{
 "cells": [
  {
   "cell_type": "code",
   "execution_count": 1,
   "metadata": {},
   "outputs": [],
   "source": [
    "import graphlab as gl"
   ]
  },
  {
   "cell_type": "code",
   "execution_count": 68,
   "metadata": {},
   "outputs": [],
   "source": [
    "data = gl.SFrame('data set/a_amazon_baby.sframe')"
   ]
  },
  {
   "cell_type": "code",
   "execution_count": 69,
   "metadata": {},
   "outputs": [],
   "source": [
    "data = data[data['name'] == 'Baby Trend Diaper Champ']"
   ]
  },
  {
   "cell_type": "code",
   "execution_count": 70,
   "metadata": {},
   "outputs": [],
   "source": [
    "data = data[data['rating'] != 3]"
   ]
  },
  {
   "cell_type": "code",
   "execution_count": 71,
   "metadata": {},
   "outputs": [],
   "source": [
    "data['sentiment'] = data['rating'] >= 4"
   ]
  },
  {
   "cell_type": "code",
   "execution_count": 72,
   "metadata": {},
   "outputs": [
    {
     "data": {
      "text/plain": [
       "dtype: dict\n",
       "Rows: 10\n",
       "[{'just': 2L, 'less': 1L, '-': 3L, 'smell-containment.': 1L, 'mainly': 1L, 'one.': 1L, 'years': 1L, 'children': 1L, 'weekly': 1L, 'difference': 1L, \"we've\": 1L, 'had': 1L, 'to': 2L, 'finally': 1L, 'pretty': 1L, '20-22': 1L, 'full.': 1L, 'them': 1L, 'around': 1L, 'food': 1L, 'cheap': 1L, 'couple': 1L, 'cheaper': 1L, 'year,': 1L, 'putting': 1L, 'immediately': 1L, 'one': 4L, 'issues,': 1L, 'helpful': 1L, 'babysitters,': 1L, 'always': 1L, 'least)': 1L, 'consensus': 1L, 'twice': 1L, 'newsflash.': 1L, 'also,': 1L, 'pails.': 1L, 'small': 1L, 'champ': 1L, \"isn't\": 1L, 'upstairs': 1L, 'attic': 1L, 'some': 1L, 'we': 4L, 'grandmothers': 1L, 'pail.)a': 1L, 'our': 3L, '2.5': 1L, 'container': 1L, 'for': 3L, 'bag': 3L, 'since': 2L, 'pleased': 1L, '3': 1L, 'use': 2L, 'max': 1L, 'got': 1L, 'before': 1L, 'good.': 1L, 'dirty': 1L, 'be': 1L, 'notice': 1L, 'eating': 2L, 'were': 2L, 'diapers': 2L, 'flip-up': 1L, 'stunk!)': 1L, 'put': 1L, 'change': 1L, 'on': 1L, 'about': 1L, 'ok': 1L, 'getting': 1L, 'of': 1L, 'months': 2L, 'days': 1L, 'plus': 1L, 'solids.': 1L, 'action': 1L, 'however,': 1L, 'first': 1L, 'this': 2L, 'major': 1L, 'primary': 1L, 'son': 1L, 'smelly': 1L, '(the': 1L, 'now.': 1L, 'would': 1L, 'stuck': 1L, 'there': 2L, 'cheapo': 1L, 'plastic': 1L, 'few': 1L, 'much': 2L, 'was': 1L, 'until': 2L, 'more': 1L, 'a': 6L, 'shopping': 1L, 'big': 1L, \"i've\": 1L, 'started': 3L, 'but': 1L, 'cabinet': 1L, 'diaper': 1L, 'broke': 1L, 'with': 2L, 'intuitive': 1L, 'solid': 1L, 'inside': 2L, 'starts': 1L, 'reviews': 1L, 'can': 1L, 'many': 1L, 'knocked': 1L, 'are': 2L, 'and': 9L, 'convenient!': 1L, 'is': 3L, '(we': 1L, \"didn't\": 2L, 'it': 2L, 'according': 1L, 'as': 3L, 'at': 1L, 'have': 2L, 'in': 3L, 'any': 1L, 'smelly.': 1L, 'lid': 1L, 'bags': 1L, 'different': 1L, 'no': 1L, 'things': 1L, 'that': 3L, 'when': 2L, 'mechanism': 1L, '(to': 1L, 'find': 1L, 'which': 1L, 'smell-control.': 1L, 'tie': 1L, 'you': 1L, 'trash': 1L, 'smell': 2L, 'star': 1L, 'pail': 2L, 'stinkier': 1L, 'after': 1L, 'problems': 1L, 'most': 1L, 'regular': 1L, 'fits': 1L, 'frequently': 1L, 'friends': 1L, 'gets': 1L, 'ago': 1L, 'off': 1L, 'pail.': 1L, 'so': 1L, 'the': 16L, 'fact': 1L, \"that's\": 1L}, {'just': 1L, 'less': 1L, 'when': 3L, 'over': 1L, 'out': 1L, 'mainly': 1L, 'while,': 1L, 'go': 1L, 'still': 1L, 'frequently,': 1L, 'seemed': 1L, 'champ.': 1L, 'bags,': 1L, 'disposal': 2L, 'seems': 2L, 'to': 9L, 'going': 1L, 'systems': 1L, 'easy': 1L, 'gross.3.': 1L, 'scrubbing': 1L, 'handle': 1L, 'around': 1L, 'far': 1L, 'cannot': 1L, 'not': 1L, 'you': 7L, 'seal\"': 1L, 'dekor).': 1L, 'knock': 1L, 'like': 2L, 'there...pretty': 1L, 'system.': 1L, 'try': 1L, 'bag': 1L, 'refillthe': 1L, 'ie.': 1L, 'soft': 1L, 'husband': 1L, 'dumper-thingie': 1L, 'because': 1L, 'dump': 1L, 'bag2.': 1L, 'some': 1L, '*some*': 1L, 'diaper,': 1L, 'are': 1L, 'seal': 1L, 'really': 1L, 'even': 1L, '\"side\"': 1L, 'given': 1L, '(a': 1L, 'selected': 1L, 'washed': 2L, 'outside': 1L, 'clorox': 1L, 'use': 3L, 'can': 2L, 'be': 3L, 'opening': 1L, 'diapers': 1L, 'odor!2.': 1L, 'disinfect': 1L, 'negatives': 1L, 'put': 2L, 'super-frustrating!': 1L, 'about': 1L, 'deodorized': 1L, 'last': 1L, 'of': 3L, 'leaves': 1L, 'retain': 1L, 'diapers,': 1L, 'or': 1L, 'comes': 1L, 'complaint.okay,': 1L, 'dispose': 1L, 'into': 2L, 'primary': 1L, 'down': 1L, 'wash': 1L, 'champ': 1L, 'another': 2L, 'refill': 2L, 'plastic': 2L, 'smells': 2L, \"doesn't\": 1L, 'little': 1L, \"it's\": 1L, 'moderately': 1L, 'next': 1L, 'much': 1L, 'time': 2L, 'was': 1L, 'roped': 1L, 'empty': 1L, 'more': 1L, '\"odor': 1L, 'that': 2L, 'changer,': 1L, 'specialty': 1L, 'but': 1L, 'priced': 1L, 'replaced,': 1L, 'diaper': 6L, '8': 1L, 'trying': 1L, 'with': 3L, 'than': 1L, 'occasionally),': 1L, 'must': 2L, 'are:1.': 2L, 'this': 3L, 'inside': 1L, 'flip': 2L, 'air': 1L, 'reviews': 1L, 'i': 2L, 'dirty': 3L, 'cleanser!).': 1L, 'were': 1L, 'my': 2L, 'and': 8L, 'buying': 1L, 'smell,': 1L, 'is': 3L, 'it': 5L, 'talking': 1L, 'as': 2L, \"(i'm\": 1L, 'in': 3L, 'any': 1L, 'bags': 1L, 'material)': 1L, 'generally': 1L, 'also': 1L, 'hole,': 1L, 'freshly': 1L, 'ordinary': 1L, 'trash': 3L, 'smell': 1L, 'odor.': 1L, 'product': 2L, 'odor,': 1L, 'can.': 1L, \"desired.we're\": 1L, 'after': 1L, 'hosing': 1L, 'positive...the': 1L, 'regular': 1L, 'positives': 1L, 'a': 4L, '(ie.': 1L, '\"champ\"': 2L, 'think': 1L, 'contact': 1L, 'so': 4L, '(some': 1L, 'things': 1L, 'the': 20L, 'bag,': 1L}, {'control': 1L, 'am': 1L, 'it': 1L, 'used': 1L, 'in': 1L, 'investment': 1L, 'bags': 1L, 'for': 2L, '&': 1L, 'disposal': 1L, 'pleased': 1L, '3ply': 1L, 'trash': 1L, 'nose!!!': 1L, '(scented).': 1L, 'odor': 1L, 'diaper': 1L, 'excellent': 1L, 'conjunction': 1L, 'with': 3L, 'glad': 1L, 'kitchen': 1L, 'a': 1L, 'wise': 1L, 'unit.': 1L, 'i': 2L, 'product!!!': 1L, 'pocketbook': 1L, 'this': 1L, 'soooo': 1L, 'the': 2L}, {'and': 3L, 'over.': 1L, 'all': 1L, 'love': 1L, 'just': 2L, 'our': 2L, 'hint': 1L, 'into': 1L, 'it': 3L, 'flip': 1L, 'diapers': 1L, 'are': 1L, 'another': 2L, 'in': 2L, 'need': 1L, 'curious': 1L, 'open': 1L, 'your': 1L, 'best': 1L, 'before': 1L, 'even': 2L, 'little': 1L, 'no': 3L, 'top': 1L, 'get': 1L, 'had': 1L, 'feature': 1L, 'to': 3L, 'when': 2L, 'easy': 1L, 'new': 1L, 'learned': 1L, 'trash': 1L, 'full,': 1L, 'is': 3L, 'son': 1L, 'odor,': 1L, 'an': 1L, 'pail': 1L, 'that': 2L, 'very': 1L, 'use': 1L, 'hand': 1L, 'most': 1L, 'in.': 1L, 'ones': 1L, 'putting': 1L, 'diaper': 4L, 'put': 1L, 'champ,': 1L, 'champ.': 1L, 'you': 1L, 'bags.': 1L, 'a': 2L, 'pull': 1L, 'gets': 1L, 'longer': 1L, 'dipaer': 1L, 'we': 3L, 'of': 2L, 'problem!!': 1L, 'drop': 1L, 'inside.': 1L, 'out.': 1L, 'diapers.': 1L, 'found': 1L, 'the': 7L, \"can't\": 1L, 'stick': 1L}, {'just': 1L, 'when': 1L, 'both': 1L, 'results': 1L, 'seals': 1L, 'down,': 1L, 'view,': 1L, 'before': 1L, 'but': 2L, 'garbage': 2L, 'ease': 1L, 'had': 2L, 'minnesota': 1L, 'better': 1L, 'to': 6L, 'going': 1L, '(8': 1L, 'factor': 1L, '8': 1L, 'outside': 1L, 'eventually': 1L, 'it,': 1L, 'around': 1L, 'get': 2L, 'very': 1L, 'dg': 1L, 'horrible': 1L, 'flip,': 1L, 'bit,': 1L, 'every': 2L, 'they': 2L, 'fall': 1L, 'not': 1L, 'using': 1L, 'bringing': 1L, 'dog.': 1L, 'toddler': 1L, 'like': 1L, 'week.': 1L, 'drop': 1L, 'grows': 1L, 'bag': 4L, 'also,': 1L, 'each': 1L, 'found': 1L, 'grab': 2L, 'amazing,': 1L, 'out': 2L, 'back': 1L, 'flip': 1L, 'go': 1L, 'help.no': 1L, 'close': 1L, 'tried': 1L, 'what': 1L, 'onto': 2L, 'for': 1L, 'away': 2L, 'access': 1L, '3': 2L, 'day)': 1L, 'neither': 1L, 'champ!wow,': 1L, 'be': 2L, 'we': 3L, 'run': 1L, 'opening': 1L, 'oust': 1L, 'diapers': 3L, 'them': 1L, 'members': 2L, 'put': 1L, 'change': 1L, 'on': 1L, 'about': 2L, 'system.opening': 1L, 'of': 5L, 'taking': 1L, 'larger': 1L, 'leaving': 1L, 'wrenching,': 1L, 'place': 1L, 'out,': 1L, 'stinky': 1L, 'first': 1L, 'nearby,': 1L, 'and': 12L, 'secure': 1L, 'family': 2L, 'point': 1L, 'wall': 1L, 'months,': 1L, 'into': 4L, 'within': 1L, 'turning,': 1L, 'down': 1L, 'economical.': 1L, 'difference,': 1L, 'open': 1L, 'your': 1L, 'twist-tie,': 1L, 'odors,': 1L, 'little': 4L, 'from': 2L, 'plop': 1L, 'area': 1L, \"it's\": 3L, 'top': 3L, 'hand.we': 1L, 'two': 2L, '2': 2L, 'was': 1L, 'until': 1L, 'more': 2L, 'hard,': 1L, 'engaged,': 1L, 'that': 3L, 'started': 1L, 'wet': 1L, 'antibacterial': 1L, 'lift': 1L, 'diaper': 7L, 'baby': 1L, 'spritz': 1L, 'with': 3L, 'than': 1L, 'buying': 1L, 'neck': 1L, 'me': 1L, '13': 1L, 'smells,': 1L, 'look': 1L, 'this': 1L, 'handle,': 1L, 'can': 3L, 'wipes': 1L, 'will': 2L, 'voila,': 1L, 'dirty': 3L, 'week.still,': 1L, 'plunger': 2L, 'drops': 1L, 'my': 1L, 'winter.': 1L, 'proprietary': 1L, 'pushes': 1L, 'give': 1L, 'is': 4L, 'it': 12L, 'dg,': 1L, 'twist': 1L, 'locks': 1L, 'as': 1L, 'top,': 1L, 'at': 4L, 'in': 5L, 'gallon': 1L, 'keep': 1L, 'orders': 1L, 'lid': 1L, 'bags': 1L, 'sides,': 1L, 'maybe': 1L, 'costliness': 1L, 'eventual': 1L, \"child's\": 1L, '-': 3L, '1': 1L, 'hole,': 1L, 'take': 1L, 'you': 1L, 'trash': 2L, \"doesn't\": 1L, 'cartridges.': 1L, 'gravitic': 1L, 'cartridge': 1L, 'normal': 1L, 'can.': 1L, 'can,': 1L, 'use': 1L, 'needs': 1L, 'stay': 1L, 'girlfriends': 1L, 'times': 2L, 'a': 16L, 'off': 1L, 'especially': 1L, 'makes': 1L, 'well': 1L, 'pail.': 1L, 'fighting': 1L, 'or': 1L, 'clean.at': 1L, 'without': 1L, 'so': 2L, 'time': 1L, 'genie': 1L, 'the': 21L, 'having': 1L, \"that's\": 1L}, {'lysol': 1L, 'all': 1L, 'mom.': 1L, 'busy': 1L, 'stinky': 1L, \"baby's\": 1L, 'to': 1L, 'cleaner.': 1L, '4': 1L, '\"perfect\"': 1L, 'has': 1L, '2)': 1L, 'full.': 1L, 'gave': 1L, 'good': 1L, 'around': 1L, 'very': 1L, 'couple': 1L, 'suggestions:': 1L, 'every': 1L, 'not': 2L, 'empty,': 1L, 'wipe': 1L, 'week)': 1L, 'gets': 1L, '--': 1L, 'benefit': 1L, 'diapers),': 1L, 'because': 1L, 'often': 1L, 'poop': 1L, 'second': 1L, 'year': 1L, 'special': 1L, 'out': 2L, 'for': 1L, 'lots': 1L, 'review': 1L, 'product,': 1L, 'bad': 1L, 'eating': 1L, 'step': 1L, 'daughter': 1L, 'of': 1L, 'needing': 1L, 'spray': 1L, '(at': 1L, 'or': 1L, 'waited': 1L, 'really-stinky-diaper': 1L, 'refill': 1L, 'now,': 1L, 'little': 1L, 'from': 1L, 'stage.': 1L, \"it's\": 2L, 'least': 1L, 'plastic': 1L, 'leaks': 1L, 'stars': 1L, 'recommend': 1L, 'until': 1L, 'empty': 1L, 'more': 1L, 'happily': 1L, 'antibacterial': 1L, 'diaper': 1L, 'champ.': 1L, 'with': 3L, 'smell.i': 1L, 'this': 2L, 'can': 1L, '1)': 1L, 'making': 1L, 'similar': 1L, 'at': 1L, 'and': 4L, 'is': 1L, 'it': 1L, '(and': 1L, 'as': 1L, 'performed': 1L, 'in': 1L, 'my': 1L, 'saw': 1L, 'if': 1L, 'huge': 1L, 'stinkier,': 1L, '1': 1L, 'how': 1L, 'you': 1L, 'really': 1L, 'smell': 1L, 'product': 1L, 'bags': 1L, 'but': 1L, 'retaining': 1L, 'a': 7L, 'kept': 1L, 'i': 3L, 'sometimes': 1L, 'solids': 1L, 'time': 1L, 'the': 3L, 'once': 1L}, {'all': 1L, 'bags.': 1L, 'just': 1L, \"don't\": 2L, 'saver': 1L, 'years': 1L, 'refills.': 1L, 'looks': 1L, 'before': 1L, '$': 3L, 'fancier.': 1L, 'better': 1L, 'to': 5L, '4': 1L, 'odorless,': 1L, 'save': 1L, 'it.': 1L, 'get': 2L, 'it!': 2L, 'they': 1L, 'not': 3L, 'using': 1L, 'like': 1L, 'try': 1L, 'nose': 1L, 'also,': 1L, 'you!!': 1L, 'because': 1L, 'born': 1L, 'diaper,': 1L, 'enclosed': 1L, 'for': 2L, 'since': 1L, 'does': 2L, 'dirty': 2L, 'be': 1L, 'odor': 1L, 'job': 1L, 'thank': 1L, 'on': 1L, 'of': 1L, \"wouldn't\": 1L, 'keep': 1L, 'thing': 1L, \"i'd\": 1L, 'first': 1L, 'had': 1L, 'into': 1L, 'period': 1L, 'son': 1L, 'champ': 2L, 'your': 2L, 'use': 1L, 'constantly': 1L, 'been': 1L, 'much': 1L, 'waste': 1L, 'was': 2L, 'wipes': 1L, 'empty': 1L, 'buy': 1L, \"child's\": 1L, 'but': 1L, '$!': 1L, 'diaper': 2L, 'hold': 1L, 'with': 2L, 'keeping': 1L, 'room': 1L, 'this': 1L, 'inside': 1L, 'second': 1L, 'will': 1L, 'suppose': 1L, 'can': 2L, 'room-they': 1L, 'my': 2L, 'could': 1L, 'and': 2L, 'almost': 1L, 'is': 3L, 'it': 5L, 'as': 2L, 'well.': 1L, 'have': 4L, 'in': 2L, 'if': 1L, 'genie': 3L, 'able': 1L, 'you': 4L, 'trash': 3L, '\"save\"': 1L, 'regular': 2L, 'lid-just': 1L, 'smelling': 1L, 'changing': 1L, 'a': 7L, 'genie-your': 1L, 'yuck!': 1L, 'longer': 1L, 'i': 5L, 'well': 1L, 'thought': 1L, 'so': 1L, 'clean': 1L, 'fresh': 1L, 'the': 10L}, {'lysol': 1L, 'all': 2L, 'bags.': 1L, 'feedback': 1L, 'just': 1L, 'less': 2L, 'works!also,': 1L, 'older,': 1L, 'month': 1L, 'stool,': 1L, 'go': 1L, 'still': 1L, 'lifesaver!!': 1L, 'secure': 1L, 'pails': 1L, 'certainly': 1L, 'had': 1L, 'should': 1L, 'to': 5L, 'tape': 1L, 'those': 3L, 'changes,': 1L, 'has': 1L, 'worth': 1L, 'do': 1L, 'good': 1L, 'which': 1L, 'fact,': 1L, 'very': 2L, 'full!!': 1L, 'champ.for': 1L, 'they': 1L, 'not': 1L, '2': 1L, 'highly': 1L, 'thing!!': 1L, 'complain': 2L, 'minute': 1L, 'like': 1L, '(aka': 1L, 'frequently!!': 1L, 'week.': 1L, 'problems,': 1L, 'all,': 1L, 'seconds!!)': 1L, \"odor.'\": 1L, '(takes': 1L, 'item': 1L, 'indication': 1L, 'reasonable': 1L, 'experiencing': 1L, 'popular': 1L, 'become': 2L, \"isn't\": 1L, 'prevent': 1L, 'because': 3L, 'old': 1L, 'people': 1L, 'house': 2L, 'some': 3L, 'product': 2L, 'decided': 1L, 'diapers!!': 1L, 'special': 1L, 'out': 1L, 'gradually': 1L, 'diets': 1L, 'pail': 1L, 'for': 3L, 'bag': 1L, 'me!this': 1L, 'toddlers,': 1L, '3': 1L, 'does': 3L, 'stuck,': 1L, 'it': 6L, 'probably': 1L, 'ever': 1L, \"'potent'\": 1L, \"son's\": 1L, 'foods!)': 1L, 'who': 3L, 'also,': 1L, 'odor': 3L, 'never': 1L, 'diapers': 1L, 'here': 1L, 'spray': 1L, 'let': 1L, 'well.2.': 1L, 'ask': 1L, 'solid': 1L, 'come': 1L, 'genie,': 1L, 'on': 2L, 'about': 2L, 'problem:1.': 1L, 'getting': 1L, 'of': 7L, 'changed': 1L, 'times': 1L, 'changes': 1L, 'or': 2L, 'price.': 1L, 'simple': 1L, 'dispose': 1L, 'one': 2L, 'down': 1L, 'put': 1L, 'champ': 2L, 'diapers!in': 1L, 'passes,': 1L, 'two.': 1L, 'use': 1L, 'from': 1L, 'would': 1L, 'been': 2L, 'noticed': 1L, 'their': 4L, 'stinkier!!!all': 1L, 'too': 2L, 'recommend': 1L, 'until': 1L, 'more': 1L, 'buy': 1L, 'that': 7L, \"didn't\": 1L, 'antibacterial': 1L, 'idea': 1L, 'change': 2L, 'diaper': 9L, 'baby': 1L, 'with': 3L, 'than': 1L, 'present': 1L, 'longer': 1L, '10': 1L, 'this': 3L, 'originally': 1L, 'air': 1L, 'will': 1L, 'while': 1L, 'dirty': 2L, 'following': 1L, 'making': 1L, 'my': 3L, 'parents,': 1L, 'are': 3L, 'and': 10L, \"'diaper\": 1L, 'costly': 1L, 'then': 1L, 'almost': 1L, 'is': 7L, 'suggestions': 1L, 'mine': 2L, 'an': 1L, 'talking': 1L, 'as': 5L, 'words,': 1L, 'at': 1L, 'have': 4L, 'in': 6L, 'keep': 1L, 'disappear': 1L, 'if': 1L, 'bags': 1L, 'no': 1L, 'rather': 1L, 'get': 3L, '-': 1L, 'wipe': 1L, 'same': 1L, 'useful.': 1L, '1': 1L, 'how': 1L, 'recommended': 1L, 'other': 2L, 'wipes': 1L, 'babies': 2L, 'solve': 1L, 'you': 2L, 'gets': 2L, 'smell': 2L, 'hello,': 1L, 'sure': 1L, 'time': 1L, 'again,': 1L, 'mind:as': 1L, 'consistency': 1L, 'diet': 1L, 'registry': 1L, 'friends': 1L, 'a': 5L, 'problem!no': 1L, 'happening': 1L, 'effective': 2L, 'older': 1L, 'i': 10L, 'maybe': 1L, 'pail.': 1L, 'efficient': 1L, 'definitely': 1L, 'so': 2L, 'clean': 1L, 'seems': 1L, 'the': 20L, 'having': 1L, 'amazed': 1L, 'once': 1L}, {'and': 2L, 'all': 1L, 'just': 1L, 'is': 2L, 'am': 1L, 'it': 1L, 'champ': 2L, 'at': 1L, 'have': 1L, 'in': 1L, 'close': 1L, 'odors': 1L, 'any': 2L, 'even': 1L, 'use': 1L, 'from': 1L, '-': 2L, 'plastic': 1L, 'much': 1L, 'way': 1L, '6': 1L, 'instead': 1L, 'you': 3L, 'it.': 1L, 'do': 1L, 'handle': 1L, 'pretty': 1L, 'smelled': 1L, 'never': 1L, 'like': 1L, 'genie!': 1L, 'diaper': 2L, 'got': 1L, 'baby': 1L, 'champ.': 1L, 'weeks': 1L, 'glad': 1L, 'especially': 1L, 'a': 2L, 'grocery': 1L, 'best.': 1L, 'i': 4L, 'of': 1L, 'pinch.': 1L, 'flip': 1L, 'will': 1L, 'bag': 2L, 'definitely': 1L, 'so': 1L, 'can': 1L, 'the': 7L, 'my': 1L, \"that's\": 1L}, {'hand.': 1L, '(required': 1L, 'before': 1L, 'refills': 1L, 'careful': 1L, 'much': 1L, 'had': 1L, 'to': 10L, 'only': 1L, '4': 1L, 'easy': 2L, 'it.': 1L, 'handle': 1L, 'which': 1L, 'everyone.': 1L, 'far': 1L, 'cannot': 1L, 'not': 2L, 'like': 1L, 'gift': 1L, 'everytime': 3L, 'bag': 3L, 'stuff': 1L, 'champ': 1L, 'side': 1L, '(the': 1L, 'disposing.': 1L, 'hard': 1L, 'some': 1L, 'decided': 1L, 'are': 3L, 'unless': 1L, 'even': 1L, 'for': 4L, 'since': 1L, 'poopy': 1L, 'does': 2L, 'smells': 1L, 'be': 2L, 'we': 3L, 'given': 1L, 'diapers': 1L, 'reason': 2L, 'put': 1L, 'change': 1L, 'baby).': 1L, 'both': 1L, 'of': 1L, 'turn': 1L, 'regular': 1L, 'love': 2L, 'garbage': 1L, 'dispose': 2L, 'one': 2L, 'down': 1L, 'done': 1L, 'your': 4L, 'expensive': 1L, 'expensive.': 1L, 'use': 4L, 'would': 1L, 'top': 1L, 'plastic': 1L, 'breath': 1L, '2': 1L, 'recommend': 1L, 'was': 1L, 'buy': 1L, 'that': 4L, \"genie's\": 1L, 'but': 3L, 'part': 1L, 'diaper': 5L, 'hold': 1L, 'with': 2L, 'this': 1L, 'us': 1L, 'refills).': 1L, 'replaced': 1L, 'can': 3L, 'and': 6L, 'is': 3L, 'it': 10L, 'as': 1L, 'have': 2L, 'in': 2L, 'need': 1L, 'if': 2L, 'bags': 1L, 'needs': 1L, 'when': 2L, 'feature': 1L, '(no': 1L, 'also': 2L, 'holding': 1L, 'you': 10L, 'gets': 1L, 'smell': 2L, 'messy.': 1L, 'product': 1L, 'star': 1L, 'hand': 1L, 'most': 1L, 'important': 1L, 'on': 1L, 'a': 3L, 'chute': 1L, 'off': 1L, 'i': 3L, 'acutally': 1L, 'so': 2L, 'clean': 1L, 'time': 1L, 'very': 3L, 'the': 10L, 'rating)': 1L}]"
      ]
     },
     "execution_count": 72,
     "metadata": {},
     "output_type": "execute_result"
    }
   ],
   "source": [
    "data['word_count'] = gl.text_analytics.count_words(data['review'])\n",
    "data['word_count'].head()"
   ]
  },
  {
   "cell_type": "code",
   "execution_count": 73,
   "metadata": {},
   "outputs": [],
   "source": [
    "selected_words = ['awesome', 'great', 'fantastic', 'amazing', 'love', 'horrible', 'bad', 'terrible', 'awful', 'wow' , 'hate']"
   ]
  },
  {
   "cell_type": "code",
   "execution_count": 74,
   "metadata": {},
   "outputs": [],
   "source": [
    "def counter(review):\n",
    "    c={}\n",
    "    for i in review:\n",
    "        for j in selected_words:\n",
    "            if i == j:\n",
    "                c.update({j:review[i]})\n",
    "    return c"
   ]
  },
  {
   "cell_type": "code",
   "execution_count": 75,
   "metadata": {},
   "outputs": [
    {
     "data": {
      "text/plain": [
       "dtype: dict\n",
       "Rows: 298\n",
       "[{}, {}, {}, {'love': 1L}, {'horrible': 1L}, {'bad': 1L}, {}, {}, {}, {'love': 2L}, {}, {}, {}, {}, {'great': 1L, 'love': 3L}, {}, {}, {}, {'bad': 1L}, {'awful': 1L, 'great': 1L, 'love': 1L}, {'great': 1L}, {'love': 1L}, {}, {'great': 1L}, {}, {'love': 2L, 'horrible': 1L}, {'great': 1L}, {'bad': 1L}, {'love': 1L}, {}, {'love': 1L}, {'love': 1L}, {}, {}, {}, {}, {'love': 1L}, {'love': 1L}, {}, {'love': 1L}, {}, {'great': 1L}, {'bad': 1L}, {}, {'bad': 1L}, {}, {'love': 1L}, {'love': 1L}, {'great': 1L}, {}, {'great': 1L, 'love': 1L}, {}, {}, {}, {}, {}, {}, {'love': 1L}, {'love': 2L}, {'great': 1L, 'love': 1L}, {}, {}, {}, {}, {'great': 1L, 'love': 1L}, {}, {}, {}, {}, {'bad': 1L}, {'hate': 1L}, {}, {}, {}, {'great': 1L}, {'great': 1L}, {'great': 2L, 'love': 1L}, {'love': 1L}, {}, {}, {}, {'great': 1L, 'love': 1L}, {}, {'love': 1L}, {'love': 1L}, {}, {'horrible': 1L}, {'great': 1L}, {}, {'love': 1L}, {}, {}, {}, {}, {}, {'fantastic': 1L}, {}, {}, {}, {}, ... ]"
      ]
     },
     "execution_count": 75,
     "metadata": {},
     "output_type": "execute_result"
    }
   ],
   "source": [
    "data['words'] = data['word_count'].apply(counter)\n",
    "data['words']"
   ]
  },
  {
   "cell_type": "code",
   "execution_count": 76,
   "metadata": {},
   "outputs": [
    {
     "name": "stdout",
     "output_type": "stream",
     "text": [
      "Canvas is updated and available in a tab in the default browser.\n"
     ]
    }
   ],
   "source": [
    "data['words'].show()"
   ]
  },
  {
   "cell_type": "code",
   "execution_count": 77,
   "metadata": {},
   "outputs": [
    {
     "name": "stdout",
     "output_type": "stream",
     "text": [
      "Canvas is updated and available in a tab in the default browser.\n"
     ]
    }
   ],
   "source": [
    "data['selected_word_count'] = gl.text_analytics.count_words(data['words'])\n",
    "data ['selected_word_count'] =  data['selected_word_count'] != None\n",
    "data['selected_word_count'].show()\n"
   ]
  },
  {
   "cell_type": "code",
   "execution_count": 78,
   "metadata": {},
   "outputs": [],
   "source": [
    "def awesome(review):\n",
    "    for i in review:\n",
    "        if i == 'awesome':\n",
    "            return review[i]\n",
    "        else:\n",
    "            return 0\n",
    "def hate(review):\n",
    "    for i in review:\n",
    "        if i == 'hate':\n",
    "            return review[i]\n",
    "        else:\n",
    "            return 0\n",
    "def wow(review):\n",
    "    for i in review:\n",
    "        if i == 'wow':\n",
    "            return review[i]\n",
    "        else:\n",
    "            return 0\n",
    "def awful(review):\n",
    "    for i in review:\n",
    "        if i == 'awful':\n",
    "            return review[i]\n",
    "        else:\n",
    "            return 0\n",
    "\n",
    "def terrible(review):\n",
    "    for i in review:\n",
    "        if i == 'terrible':\n",
    "            return review[i]\n",
    "        else:\n",
    "            return 0\n",
    "\n",
    "def bad(review):\n",
    "    for i in review:\n",
    "        if i == 'bad':\n",
    "            return review[i]\n",
    "        else:\n",
    "            return 0\n",
    "\n",
    "def horrible(review):\n",
    "    for i in review:\n",
    "        if i == 'horrible':\n",
    "            return review[i]\n",
    "        else:\n",
    "            return 0\n",
    "\n",
    "def love(review):\n",
    "    for i in review:\n",
    "        if i == 'love':\n",
    "            return review[i]\n",
    "        else:\n",
    "            return 0\n",
    "\n",
    "def amazing(review):\n",
    "    for i in review:\n",
    "        if i == 'amazing':\n",
    "            return review[i]\n",
    "        else:\n",
    "            return 0\n",
    "\n",
    "def fantastic(review):\n",
    "    for i in review:\n",
    "        if i == 'fantastic':\n",
    "            return review[i]\n",
    "        else:\n",
    "            return 0\n",
    "\n",
    "def great(review):\n",
    "    for i in review:\n",
    "        if i == 'great':\n",
    "            return review[i]\n",
    "        else:\n",
    "            return 0\n",
    "\n",
    "def amazing(review):\n",
    "    for i in review:\n",
    "        if i == 'amazing':\n",
    "            return review[i]\n",
    "        else:\n",
    "            return 0\n",
    "\n",
    "def great(review):\n",
    "    for i in review:\n",
    "        if i == 'great':\n",
    "            return review[i]\n",
    "        else:\n",
    "            return 0\n"
   ]
  },
  {
   "cell_type": "code",
   "execution_count": 79,
   "metadata": {},
   "outputs": [],
   "source": [
    "data['awesome'] = data['word_count'].apply(awesome)\n",
    "data['awesgreatome'] = data['word_count'].apply(great) \n",
    "data['fantastic'] = data['word_count'].apply(fantastic) \n",
    "data['awesome'] = data['word_count'].apply(amazing) \n",
    "data['love'] = data['word_count'].apply(love) \n",
    "data['horrible'] = data['word_count'].apply(horrible) \n",
    "data['bad'] = data['word_count'].apply(bad) \n",
    "data['terrible'] = data['word_count'].apply(terrible) \n",
    "data['awful'] = data['word_count'].apply(awful) \n",
    "data['wow'] = data['word_count'].apply(wow) \n",
    "data['hate'] = data['word_count'].apply(hate)\n",
    "data['great'] = data['word_count'].apply(great)\n",
    "data['amazing'] = data['word_count'].apply(amazing)"
   ]
  },
  {
   "cell_type": "code",
   "execution_count": 80,
   "metadata": {},
   "outputs": [],
   "source": [
    "tdata , data = data.random_split( 0.8 , seed = 0)"
   ]
  },
  {
   "cell_type": "code",
   "execution_count": 81,
   "metadata": {},
   "outputs": [
    {
     "data": {
      "text/html": [
       "<pre>Logistic regression:</pre>"
      ],
      "text/plain": [
       "Logistic regression:"
      ]
     },
     "metadata": {},
     "output_type": "display_data"
    },
    {
     "data": {
      "text/html": [
       "<pre>--------------------------------------------------------</pre>"
      ],
      "text/plain": [
       "--------------------------------------------------------"
      ]
     },
     "metadata": {},
     "output_type": "display_data"
    },
    {
     "data": {
      "text/html": [
       "<pre>Number of examples          : 248</pre>"
      ],
      "text/plain": [
       "Number of examples          : 248"
      ]
     },
     "metadata": {},
     "output_type": "display_data"
    }
   ],
   "source": [
    "model = gl.logistic_classifier.create(tdata , target = 'sentiment' , features = ['words'] , validation_set = data)"
   ]
  },
  {
   "cell_type": "code",
   "execution_count": 82,
   "metadata": {},
   "outputs": [
    {
     "data": {
      "text/html": [
       "<pre>Number of classes           : 2</pre>"
      ],
      "text/plain": [
       "Number of classes           : 2"
      ]
     },
     "metadata": {},
     "output_type": "display_data"
    },
    {
     "data": {
      "text/html": [
       "<pre>Number of feature columns   : 1</pre>"
      ],
      "text/plain": [
       "Number of feature columns   : 1"
      ]
     },
     "metadata": {},
     "output_type": "display_data"
    },
    {
     "data": {
      "text/html": [
       "<pre>Number of unpacked features : 8</pre>"
      ],
      "text/plain": [
       "Number of unpacked features : 8"
      ]
     },
     "metadata": {},
     "output_type": "display_data"
    },
    {
     "data": {
      "text/html": [
       "<pre>Number of coefficients    : 9</pre>"
      ],
      "text/plain": [
       "Number of coefficients    : 9"
      ]
     },
     "metadata": {},
     "output_type": "display_data"
    },
    {
     "data": {
      "text/html": [
       "<pre>Starting Newton Method</pre>"
      ],
      "text/plain": [
       "Starting Newton Method"
      ]
     },
     "metadata": {},
     "output_type": "display_data"
    },
    {
     "data": {
      "text/html": [
       "<pre>--------------------------------------------------------</pre>"
      ],
      "text/plain": [
       "--------------------------------------------------------"
      ]
     },
     "metadata": {},
     "output_type": "display_data"
    },
    {
     "data": {
      "text/html": [
       "<pre>+-----------+----------+--------------+-------------------+---------------------+</pre>"
      ],
      "text/plain": [
       "+-----------+----------+--------------+-------------------+---------------------+"
      ]
     },
     "metadata": {},
     "output_type": "display_data"
    },
    {
     "data": {
      "text/html": [
       "<pre>| Iteration | Passes   | Elapsed Time | Training-accuracy | Validation-accuracy |</pre>"
      ],
      "text/plain": [
       "| Iteration | Passes   | Elapsed Time | Training-accuracy | Validation-accuracy |"
      ]
     },
     "metadata": {},
     "output_type": "display_data"
    },
    {
     "data": {
      "text/html": [
       "<pre>+-----------+----------+--------------+-------------------+---------------------+</pre>"
      ],
      "text/plain": [
       "+-----------+----------+--------------+-------------------+---------------------+"
      ]
     },
     "metadata": {},
     "output_type": "display_data"
    },
    {
     "data": {
      "text/html": [
       "<pre>| 1         | 2        | 0.002993     | 0.834677          | 0.840000            |</pre>"
      ],
      "text/plain": [
       "| 1         | 2        | 0.002993     | 0.834677          | 0.840000            |"
      ]
     },
     "metadata": {},
     "output_type": "display_data"
    },
    {
     "data": {
      "text/html": [
       "<pre>| 2         | 3        | 0.003995     | 0.834677          | 0.840000            |</pre>"
      ],
      "text/plain": [
       "| 2         | 3        | 0.003995     | 0.834677          | 0.840000            |"
      ]
     },
     "metadata": {},
     "output_type": "display_data"
    },
    {
     "data": {
      "text/html": [
       "<pre>| 3         | 4        | 0.006989     | 0.834677          | 0.840000            |</pre>"
      ],
      "text/plain": [
       "| 3         | 4        | 0.006989     | 0.834677          | 0.840000            |"
      ]
     },
     "metadata": {},
     "output_type": "display_data"
    },
    {
     "data": {
      "text/html": [
       "<pre>| 4         | 5        | 0.007992     | 0.834677          | 0.840000            |</pre>"
      ],
      "text/plain": [
       "| 4         | 5        | 0.007992     | 0.834677          | 0.840000            |"
      ]
     },
     "metadata": {},
     "output_type": "display_data"
    },
    {
     "data": {
      "text/html": [
       "<pre>| 5         | 6        | 0.010992     | 0.834677          | 0.840000            |</pre>"
      ],
      "text/plain": [
       "| 5         | 6        | 0.010992     | 0.834677          | 0.840000            |"
      ]
     },
     "metadata": {},
     "output_type": "display_data"
    },
    {
     "data": {
      "text/html": [
       "<pre>| 6         | 7        | 0.011998     | 0.834677          | 0.840000            |</pre>"
      ],
      "text/plain": [
       "| 6         | 7        | 0.011998     | 0.834677          | 0.840000            |"
      ]
     },
     "metadata": {},
     "output_type": "display_data"
    },
    {
     "data": {
      "text/html": [
       "<pre>+-----------+----------+--------------+-------------------+---------------------+</pre>"
      ],
      "text/plain": [
       "+-----------+----------+--------------+-------------------+---------------------+"
      ]
     },
     "metadata": {},
     "output_type": "display_data"
    },
    {
     "data": {
      "text/html": [
       "<pre>SUCCESS: Optimal solution found.</pre>"
      ],
      "text/plain": [
       "SUCCESS: Optimal solution found."
      ]
     },
     "metadata": {},
     "output_type": "display_data"
    },
    {
     "data": {
      "text/html": [
       "<pre></pre>"
      ],
      "text/plain": []
     },
     "metadata": {},
     "output_type": "display_data"
    },
    {
     "data": {
      "text/html": [
       "<div style=\"max-height:1000px;max-width:1500px;overflow:auto;\"><table frame=\"box\" rules=\"cols\">\n",
       "    <tr>\n",
       "        <th style=\"padding-left: 1em; padding-right: 1em; text-align: center\">name</th>\n",
       "        <th style=\"padding-left: 1em; padding-right: 1em; text-align: center\">index</th>\n",
       "        <th style=\"padding-left: 1em; padding-right: 1em; text-align: center\">class</th>\n",
       "        <th style=\"padding-left: 1em; padding-right: 1em; text-align: center\">value</th>\n",
       "        <th style=\"padding-left: 1em; padding-right: 1em; text-align: center\">stderr</th>\n",
       "    </tr>\n",
       "    <tr>\n",
       "        <td style=\"padding-left: 1em; padding-right: 1em; text-align: center; vertical-align: top\">(intercept)</td>\n",
       "        <td style=\"padding-left: 1em; padding-right: 1em; text-align: center; vertical-align: top\">None</td>\n",
       "        <td style=\"padding-left: 1em; padding-right: 1em; text-align: center; vertical-align: top\">1</td>\n",
       "        <td style=\"padding-left: 1em; padding-right: 1em; text-align: center; vertical-align: top\">1.14298182868</td>\n",
       "        <td style=\"padding-left: 1em; padding-right: 1em; text-align: center; vertical-align: top\">0.20755859516</td>\n",
       "    </tr>\n",
       "    <tr>\n",
       "        <td style=\"padding-left: 1em; padding-right: 1em; text-align: center; vertical-align: top\">words</td>\n",
       "        <td style=\"padding-left: 1em; padding-right: 1em; text-align: center; vertical-align: top\">love</td>\n",
       "        <td style=\"padding-left: 1em; padding-right: 1em; text-align: center; vertical-align: top\">1</td>\n",
       "        <td style=\"padding-left: 1em; padding-right: 1em; text-align: center; vertical-align: top\">5.78077195582</td>\n",
       "        <td style=\"padding-left: 1em; padding-right: 1em; text-align: center; vertical-align: top\">4.30020617028</td>\n",
       "    </tr>\n",
       "    <tr>\n",
       "        <td style=\"padding-left: 1em; padding-right: 1em; text-align: center; vertical-align: top\">words</td>\n",
       "        <td style=\"padding-left: 1em; padding-right: 1em; text-align: center; vertical-align: top\">horrible</td>\n",
       "        <td style=\"padding-left: 1em; padding-right: 1em; text-align: center; vertical-align: top\">1</td>\n",
       "        <td style=\"padding-left: 1em; padding-right: 1em; text-align: center; vertical-align: top\">-0.449670803979</td>\n",
       "        <td style=\"padding-left: 1em; padding-right: 1em; text-align: center; vertical-align: top\">1.24224092014</td>\n",
       "    </tr>\n",
       "    <tr>\n",
       "        <td style=\"padding-left: 1em; padding-right: 1em; text-align: center; vertical-align: top\">words</td>\n",
       "        <td style=\"padding-left: 1em; padding-right: 1em; text-align: center; vertical-align: top\">bad</td>\n",
       "        <td style=\"padding-left: 1em; padding-right: 1em; text-align: center; vertical-align: top\">1</td>\n",
       "        <td style=\"padding-left: 1em; padding-right: 1em; text-align: center; vertical-align: top\">-0.24298162671</td>\n",
       "        <td style=\"padding-left: 1em; padding-right: 1em; text-align: center; vertical-align: top\">0.562185059744</td>\n",
       "    </tr>\n",
       "    <tr>\n",
       "        <td style=\"padding-left: 1em; padding-right: 1em; text-align: center; vertical-align: top\">words</td>\n",
       "        <td style=\"padding-left: 1em; padding-right: 1em; text-align: center; vertical-align: top\">great</td>\n",
       "        <td style=\"padding-left: 1em; padding-right: 1em; text-align: center; vertical-align: top\">1</td>\n",
       "        <td style=\"padding-left: 1em; padding-right: 1em; text-align: center; vertical-align: top\">0.39343583287</td>\n",
       "        <td style=\"padding-left: 1em; padding-right: 1em; text-align: center; vertical-align: top\">0.453734610621</td>\n",
       "    </tr>\n",
       "    <tr>\n",
       "        <td style=\"padding-left: 1em; padding-right: 1em; text-align: center; vertical-align: top\">words</td>\n",
       "        <td style=\"padding-left: 1em; padding-right: 1em; text-align: center; vertical-align: top\">awful</td>\n",
       "        <td style=\"padding-left: 1em; padding-right: 1em; text-align: center; vertical-align: top\">1</td>\n",
       "        <td style=\"padding-left: 1em; padding-right: 1em; text-align: center; vertical-align: top\">1.39913915815</td>\n",
       "        <td style=\"padding-left: 1em; padding-right: 1em; text-align: center; vertical-align: top\">78.2453630292</td>\n",
       "    </tr>\n",
       "    <tr>\n",
       "        <td style=\"padding-left: 1em; padding-right: 1em; text-align: center; vertical-align: top\">words</td>\n",
       "        <td style=\"padding-left: 1em; padding-right: 1em; text-align: center; vertical-align: top\">hate</td>\n",
       "        <td style=\"padding-left: 1em; padding-right: 1em; text-align: center; vertical-align: top\">1</td>\n",
       "        <td style=\"padding-left: 1em; padding-right: 1em; text-align: center; vertical-align: top\">6.25254419355</td>\n",
       "        <td style=\"padding-left: 1em; padding-right: 1em; text-align: center; vertical-align: top\">31.202367502</td>\n",
       "    </tr>\n",
       "    <tr>\n",
       "        <td style=\"padding-left: 1em; padding-right: 1em; text-align: center; vertical-align: top\">words</td>\n",
       "        <td style=\"padding-left: 1em; padding-right: 1em; text-align: center; vertical-align: top\">fantastic</td>\n",
       "        <td style=\"padding-left: 1em; padding-right: 1em; text-align: center; vertical-align: top\">1</td>\n",
       "        <td style=\"padding-left: 1em; padding-right: 1em; text-align: center; vertical-align: top\">6.40701340859</td>\n",
       "        <td style=\"padding-left: 1em; padding-right: 1em; text-align: center; vertical-align: top\">43.6208354495</td>\n",
       "    </tr>\n",
       "    <tr>\n",
       "        <td style=\"padding-left: 1em; padding-right: 1em; text-align: center; vertical-align: top\">words</td>\n",
       "        <td style=\"padding-left: 1em; padding-right: 1em; text-align: center; vertical-align: top\">terrible</td>\n",
       "        <td style=\"padding-left: 1em; padding-right: 1em; text-align: center; vertical-align: top\">1</td>\n",
       "        <td style=\"padding-left: 1em; padding-right: 1em; text-align: center; vertical-align: top\">-8.42712493011</td>\n",
       "        <td style=\"padding-left: 1em; padding-right: 1em; text-align: center; vertical-align: top\">38.1975896244</td>\n",
       "    </tr>\n",
       "</table>\n",
       "[9 rows x 5 columns]<br/>\n",
       "</div>"
      ],
      "text/plain": [
       "Columns:\n",
       "\tname\tstr\n",
       "\tindex\tstr\n",
       "\tclass\tint\n",
       "\tvalue\tfloat\n",
       "\tstderr\tfloat\n",
       "\n",
       "Rows: 9\n",
       "\n",
       "Data:\n",
       "+-------------+-----------+-------+-----------------+----------------+\n",
       "|     name    |   index   | class |      value      |     stderr     |\n",
       "+-------------+-----------+-------+-----------------+----------------+\n",
       "| (intercept) |    None   |   1   |  1.14298182868  | 0.20755859516  |\n",
       "|    words    |    love   |   1   |  5.78077195582  | 4.30020617028  |\n",
       "|    words    |  horrible |   1   | -0.449670803979 | 1.24224092014  |\n",
       "|    words    |    bad    |   1   |  -0.24298162671 | 0.562185059744 |\n",
       "|    words    |   great   |   1   |  0.39343583287  | 0.453734610621 |\n",
       "|    words    |   awful   |   1   |  1.39913915815  | 78.2453630292  |\n",
       "|    words    |    hate   |   1   |  6.25254419355  |  31.202367502  |\n",
       "|    words    | fantastic |   1   |  6.40701340859  | 43.6208354495  |\n",
       "|    words    |  terrible |   1   |  -8.42712493011 | 38.1975896244  |\n",
       "+-------------+-----------+-------+-----------------+----------------+\n",
       "[9 rows x 5 columns]"
      ]
     },
     "execution_count": 82,
     "metadata": {},
     "output_type": "execute_result"
    }
   ],
   "source": [
    "model['coefficients']"
   ]
  },
  {
   "cell_type": "code",
   "execution_count": 83,
   "metadata": {},
   "outputs": [
    {
     "ename": "NameError",
     "evalue": "name 'diaper_champ_reviews' is not defined",
     "output_type": "error",
     "traceback": [
      "\u001b[1;31m\u001b[0m",
      "\u001b[1;31mNameError\u001b[0mTraceback (most recent call last)",
      "\u001b[1;32m<ipython-input-83-f85acc968d26>\u001b[0m in \u001b[0;36m<module>\u001b[1;34m()\u001b[0m\n\u001b[1;32m----> 1\u001b[1;33m \u001b[0mmodel\u001b[0m\u001b[1;33m.\u001b[0m\u001b[0mpredict\u001b[0m\u001b[1;33m(\u001b[0m\u001b[0mdiaper_champ_reviews\u001b[0m\u001b[1;33m[\u001b[0m\u001b[1;36m0\u001b[0m\u001b[1;33m:\u001b[0m\u001b[1;36m1\u001b[0m\u001b[1;33m]\u001b[0m\u001b[1;33m,\u001b[0m \u001b[0moutput_type\u001b[0m\u001b[1;33m=\u001b[0m\u001b[1;34m'probability'\u001b[0m\u001b[1;33m)\u001b[0m\u001b[1;33m\u001b[0m\u001b[0m\n\u001b[0m",
      "\u001b[1;31mNameError\u001b[0m: name 'diaper_champ_reviews' is not defined"
     ]
    }
   ],
   "source": [
    "model.predict(diaper_champ_reviews[0:1], output_type='probability')"
   ]
  },
  {
   "cell_type": "code",
   "execution_count": null,
   "metadata": {},
   "outputs": [],
   "source": [
    "data.show()"
   ]
  },
  {
   "cell_type": "code",
   "execution_count": null,
   "metadata": {},
   "outputs": [],
   "source": [
    "model.show()"
   ]
  },
  {
   "cell_type": "code",
   "execution_count": null,
   "metadata": {},
   "outputs": [],
   "source": []
  },
  {
   "cell_type": "code",
   "execution_count": null,
   "metadata": {},
   "outputs": [],
   "source": []
  },
  {
   "cell_type": "code",
   "execution_count": null,
   "metadata": {},
   "outputs": [],
   "source": []
  },
  {
   "cell_type": "code",
   "execution_count": null,
   "metadata": {},
   "outputs": [],
   "source": []
  },
  {
   "cell_type": "code",
   "execution_count": null,
   "metadata": {},
   "outputs": [],
   "source": []
  },
  {
   "cell_type": "code",
   "execution_count": null,
   "metadata": {},
   "outputs": [],
   "source": []
  },
  {
   "cell_type": "code",
   "execution_count": null,
   "metadata": {},
   "outputs": [],
   "source": []
  },
  {
   "cell_type": "code",
   "execution_count": null,
   "metadata": {},
   "outputs": [],
   "source": []
  },
  {
   "cell_type": "code",
   "execution_count": null,
   "metadata": {},
   "outputs": [],
   "source": []
  },
  {
   "cell_type": "code",
   "execution_count": null,
   "metadata": {},
   "outputs": [],
   "source": []
  },
  {
   "cell_type": "code",
   "execution_count": null,
   "metadata": {},
   "outputs": [],
   "source": []
  },
  {
   "cell_type": "code",
   "execution_count": null,
   "metadata": {},
   "outputs": [],
   "source": []
  },
  {
   "cell_type": "code",
   "execution_count": null,
   "metadata": {},
   "outputs": [],
   "source": []
  },
  {
   "cell_type": "code",
   "execution_count": null,
   "metadata": {},
   "outputs": [],
   "source": []
  },
  {
   "cell_type": "code",
   "execution_count": null,
   "metadata": {},
   "outputs": [],
   "source": []
  },
  {
   "cell_type": "code",
   "execution_count": null,
   "metadata": {},
   "outputs": [],
   "source": []
  },
  {
   "cell_type": "code",
   "execution_count": null,
   "metadata": {},
   "outputs": [],
   "source": []
  },
  {
   "cell_type": "code",
   "execution_count": null,
   "metadata": {},
   "outputs": [],
   "source": []
  },
  {
   "cell_type": "code",
   "execution_count": null,
   "metadata": {},
   "outputs": [],
   "source": []
  },
  {
   "cell_type": "code",
   "execution_count": null,
   "metadata": {},
   "outputs": [],
   "source": []
  },
  {
   "cell_type": "code",
   "execution_count": null,
   "metadata": {},
   "outputs": [],
   "source": []
  },
  {
   "cell_type": "code",
   "execution_count": null,
   "metadata": {},
   "outputs": [],
   "source": []
  },
  {
   "cell_type": "code",
   "execution_count": null,
   "metadata": {},
   "outputs": [],
   "source": []
  },
  {
   "cell_type": "code",
   "execution_count": null,
   "metadata": {},
   "outputs": [],
   "source": []
  },
  {
   "cell_type": "code",
   "execution_count": null,
   "metadata": {},
   "outputs": [],
   "source": []
  },
  {
   "cell_type": "code",
   "execution_count": null,
   "metadata": {},
   "outputs": [],
   "source": []
  },
  {
   "cell_type": "code",
   "execution_count": null,
   "metadata": {},
   "outputs": [],
   "source": []
  },
  {
   "cell_type": "code",
   "execution_count": null,
   "metadata": {},
   "outputs": [],
   "source": []
  },
  {
   "cell_type": "code",
   "execution_count": null,
   "metadata": {},
   "outputs": [],
   "source": []
  }
 ],
 "metadata": {
  "kernelspec": {
   "display_name": "Python 2",
   "language": "python",
   "name": "python2"
  },
  "language_info": {
   "codemirror_mode": {
    "name": "ipython",
    "version": 2
   },
   "file_extension": ".py",
   "mimetype": "text/x-python",
   "name": "python",
   "nbconvert_exporter": "python",
   "pygments_lexer": "ipython2",
   "version": "2.7.17"
  }
 },
 "nbformat": 4,
 "nbformat_minor": 2
}
